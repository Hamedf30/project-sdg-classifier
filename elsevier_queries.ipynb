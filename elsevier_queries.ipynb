{
 "cells": [
  {
   "cell_type": "markdown",
   "id": "b915802f",
   "metadata": {},
   "source": [
    "# Elsevier Queries Notebook\n",
    "Notebook ini digunakan untuk eksplorasi dan eksekusi query terkait data Elsevier."
   ]
  },
  {
   "cell_type": "code",
   "execution_count": null,
   "id": "cdad2794",
   "metadata": {},
   "outputs": [],
   "source": [
    "# Import library yang diperlukan\n",
    "import requests\n",
    "import pandas as pd"
   ]
  }
 ],
 "metadata": {
  "language_info": {
   "name": "python"
  }
 },
 "nbformat": 4,
 "nbformat_minor": 5
}
